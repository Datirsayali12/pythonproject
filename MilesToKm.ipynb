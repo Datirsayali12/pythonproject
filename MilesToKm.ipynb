{
 "cells": [
  {
   "cell_type": "code",
   "execution_count": 1,
   "id": "2675bada",
   "metadata": {},
   "outputs": [],
   "source": [
    "from tkinter import *\n",
    "window=Tk()\n",
    "window.title('Miles to Km convertor')\n",
    "window.config(bg='white')\n",
    "window.minsize(width=400,height=400)\n",
    "\n",
    "l1=Label(text='Miles:',font=('Arial',15,'bold'),bg='white')\n",
    "l1.place(x=100,y=100)\n",
    "\n",
    "e1=Entry(text='enter here')\n",
    "e1.place(x=170,y=100)\n",
    "\n",
    "l2=Label(text='KM:',font=('Arial',15,'bold'),bg='white')\n",
    "l2.place(x=100,y=150)\n",
    "\n",
    "l2=Label(text='0',font=('Arial',15,'bold'),bg='white')\n",
    "l2.place(x=170,y=150)\n",
    "\n",
    "def calculate():\n",
    "    n=float(e1.get())\n",
    "    km=n*1.609\n",
    "    l2.config(text=km)\n",
    "\n",
    "b1=Button(text='calculate',bd=5,command=calculate,bg='blue',fg='white')\n",
    "b1.place(x=170,y=200)\n",
    "\n",
    "window.mainloop()"
   ]
  },
  {
   "cell_type": "code",
   "execution_count": null,
   "id": "cf9f67dc",
   "metadata": {},
   "outputs": [],
   "source": []
  }
 ],
 "metadata": {
  "kernelspec": {
   "display_name": "Python 3 (ipykernel)",
   "language": "python",
   "name": "python3"
  },
  "language_info": {
   "codemirror_mode": {
    "name": "ipython",
    "version": 3
   },
   "file_extension": ".py",
   "mimetype": "text/x-python",
   "name": "python",
   "nbconvert_exporter": "python",
   "pygments_lexer": "ipython3",
   "version": "3.10.9"
  }
 },
 "nbformat": 4,
 "nbformat_minor": 5
}
